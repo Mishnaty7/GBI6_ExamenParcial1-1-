{
 "cells": [
  {
   "cell_type": "markdown",
   "metadata": {},
   "source": [
    "<img src=\"https://www.ikiam.edu.ec/img/logo-ikiam-grey.png\" width=300 height=240 />\n",
    "\n",
    "# EXAMEN PARCIAL 1\n",
    "\n",
    "## GBI6-2021II: BIOINFORMÁTICA\n",
    "\n",
    "**Culcay García, Mishelle Nathaly** \n",
    "\n",
    "**11-01-2021**"
   ]
  },
  {
   "cell_type": "markdown",
   "metadata": {},
   "source": [
    "<font color='red'>NO AGREGUE NUEVAS CELDAS, UTILICE ÚNICAMENTE LAS QUE ESTÁN CREADAS</font>"
   ]
  },
  {
   "cell_type": "markdown",
   "metadata": {
    "tags": []
   },
   "source": [
    "# 1. UNIX\n",
    "\n",
    "## Ejercicio 1\n",
    "Para esta pregunta debe realizar previamente lo siguiente: \n",
    "\n",
    "1. Imprimir el directorio de trabajo actual \n",
    "2. Crear un directorio test1\n",
    "3. No cambie de directorio, pero los items 4, 5 y 6 deben guardarse en el directorio creado en el paso 2. \n",
    "4. Crear el archivo test1.txt\n",
    "5. Guardar el texto Hola GBI6 en un archivo test2.txt\n",
    "6. Guardar la instrucción print(\"Hola GBI6\")  en el archivo test1.py\n",
    "\n",
    "Luego seleccione la instrucción que permite enlistar el contenido (sin detalles) del directorio test1\n",
    "\n",
    "Repuesta:\n",
    "\n",
    "b.$ ls test1\n",
    "\n",
    "c.$ ls test1/\n",
    "\n",
    "d.$ ls ./test1\n",
    "\n",
    "\n",
    "<img src=\"Imagenes/ejercicio1.1.png\" width=600 height=450 />\n",
    "\n",
    "\n",
    "## Ejercicio 2\n",
    "Luego seleccione la instrucción que agregue el texto El examen parcial de GBI6 es hoy al archivo test2.txt sin reemplazar y imprima el contenido en la consola.\n",
    "\n",
    "Respuesta:\n",
    "\n",
    "$ echo \"El examen parcial de GBI6 es hoy\" >> test1/test2.txt\n",
    "\n",
    "$ cat test1/test2.txt\n",
    "\n",
    "\n",
    "<img src=\"Imagenes/ejercicio2.2.png\" width=600 height=450 />\n",
    "\n",
    "\n",
    "## Ejercicio 3\n",
    "Luego seleccione la instrucción que enlista los archivos del directorio test1 y luego imprima el contenido de test2.txt\n",
    "\n",
    "Respuesta:\n",
    "\n",
    "$ ls test1\n",
    "\n",
    "$ cat test1/test2.txt\n",
    "\n",
    "\n",
    "<img src=\"Imagenes/ejercicio3.3.png\" width=600 height=450 />\n",
    "\n",
    "\n",
    "\n",
    "## Ejercicio 4\n",
    "Escriba aquí el enunciado\n"
   ]
  },
  {
   "cell_type": "code",
   "execution_count": 11,
   "metadata": {},
   "outputs": [
    {
     "data": {
      "text/html": [
       "<iframe width=\"560\" height=\"315\" src=\"https://www.youtube.com/embed/iykuU31VoXc\" title=\"YouTube video player\" frameborder=\"0\" allow=\"accelerometer; autoplay; clipboard-write; encrypted-media; gyroscope; picture-in-picture\" allowfullscreen></iframe>"
      ],
      "text/plain": [
       "<IPython.core.display.HTML object>"
      ]
     },
     "execution_count": 11,
     "metadata": {},
     "output_type": "execute_result"
    }
   ],
   "source": [
    "# Coloque aquí su video del ejercicio 4\n",
    "from IPython.display import HTML\n",
    "HTML('<iframe width=\"560\" height=\"315\" src=\"https://www.youtube.com/embed/iykuU31VoXc\" title=\"YouTube video player\" frameborder=\"0\" allow=\"accelerometer; autoplay; clipboard-write; encrypted-media; gyroscope; picture-in-picture\" allowfullscreen></iframe>'\n",
    ")"
   ]
  },
  {
   "cell_type": "markdown",
   "metadata": {
    "tags": []
   },
   "source": [
    "Escriba aquí alguna explicación del ejercicio 4 si lo considera necesario (borre esta línea cuando finalice)\n",
    "\n",
    "## Ejercicio 5\n",
    "Resuelva el ejercicio 1.10.2 Hormone Levels in Baboons. \n",
    "\n",
    "Resuelva el ejercicio en un documento de nombre ejercicio_1102.sh\n",
    "Cargue el documento ejercicio_1102.sh en GitHub utilizando git push. \n",
    "Realice el video explicativo de la resolución ejercicio y guarde en YouTube en formato \"Público\" o \"Unlisted\", y pegue el enlace en el cuaderno de Jupyter.\n"
   ]
  },
  {
   "cell_type": "code",
   "execution_count": 10,
   "metadata": {},
   "outputs": [
    {
     "data": {
      "text/html": [
       "<iframe width=\"560\" height=\"315\" src=\"https://www.youtube.com/embed/iykuU31VoXc\" title=\"YouTube video player\" frameborder=\"0\" allow=\"accelerometer; autoplay; clipboard-write; encrypted-media; gyroscope; picture-in-picture\" allowfullscreen></iframe>"
      ],
      "text/plain": [
       "<IPython.core.display.HTML object>"
      ]
     },
     "execution_count": 10,
     "metadata": {},
     "output_type": "execute_result"
    }
   ],
   "source": [
    "# Coloque aquí su video del ejercicio 5\n",
    "from IPython.display import HTML\n",
    "HTML('<iframe width=\"560\" height=\"315\" src=\"https://www.youtube.com/embed/iykuU31VoXc\" title=\"YouTube video player\" frameborder=\"0\" allow=\"accelerometer; autoplay; clipboard-write; encrypted-media; gyroscope; picture-in-picture\" allowfullscreen></iframe>')\n"
   ]
  },
  {
   "cell_type": "markdown",
   "metadata": {
    "jp-MarkdownHeadingCollapsed": true,
    "tags": []
   },
   "source": [
    "Escriba aquí alguna explicación del ejercicio 5 si lo considera necesario (borre esta línea cuando finalice)\n",
    "\n",
    "# 2. CONTROL DE LA VERSIÓN\n",
    "## Pregunta 6\n",
    "1. Cree en GitHub un repositorio de nombre ```GBI6_ExamenParcial1```. \n",
    "2. Cree un archivo ```Readme.md``` que debe tener lo siguiente: \n",
    "- Datos personales\n",
    "- Características del computador\n",
    "- Programas utilizados\n",
    "- Explicación de la data utilizada\n",
    "\n",
    "\n",
    "## Pregunta 7\n",
    "1. Cada vez que resuelva un ejercicio (del 1 al 10), utilizando Git Bash, GitHub Desktop o Atom realice un *git push* con el mensaje: \n",
    "\n",
    "\n",
    "<font color='red'>Apellido Nombre ha resuelto el ejercicio 1</font> % Cambie con sus apellidos y nombres; y con el número de ejercicio que corresponda \n",
    "\n",
    "2. Coloque aquí las capturas de pantalla para cada git push realizado desde Git Bash, GitHub Desktop o Atom. \n",
    "\n",
    "- Control de versión ejercicio 1\n",
    "\n",
    "<img src=\"Imagenes/gitpush1.1.png\" width=600 height=450 />\n",
    "\n",
    "- Control de versión ejercicio 2\n",
    "\n",
    "<img src=\"Imagenes/gitpush2.2.png\" width=600 height=450 />\n",
    "\n",
    "- Control de versión ejercicio 3\n",
    "\n",
    "<img src=\"Imagenes/gitpush3.3.png\" width=600 height=450 />\n",
    "\n",
    "- Control de versión ejercicio 4\n",
    "\n",
    "<img src=\"Imagenes/gitpush4.png\" width=600 height=450 />\n",
    "\n",
    "- Control de versión ejercicio 5\n",
    "\n",
    "<img src=\"Imagenes/gitpush5.png\" width=600 height=450 />\n",
    "\n",
    "- Control de versión ejercicio 8\n",
    "\n",
    "<img src=\"Imagenes/gitpush8.1.png\" width=600 height=450 />\n",
    "\n",
    "- Control de versión ejercicio 9\n",
    "\n",
    "<img src=\"Imagenes/gitpush9.png\" width=600 height=450 />\n",
    "\n",
    "- Control de versión ejercicio 10\n",
    "\n",
    "<img src=\"Imagenes/gitpush10.png\" width=600 height=450 />\n",
    "\n",
    "\n",
    "3. Cree un directorio de nombre ```data``` donde deben estar guardados: (i) la data utilizada y (ii) las capturas de pantalla de los ejercicios 1 al 3 y los git push del ejercicio 1 al 10 (en total debe tener 13 imágenes). \n",
    "4. Inserte aquí el enlace de su repositorio (válido para el ejercicio 6 y 7): [https://github.com/Mishnaty7/GBI6_ExamenParcial1-1-]"
   ]
  },
  {
   "cell_type": "markdown",
   "metadata": {},
   "source": [
    "# 3. INTRODUCCIÓN A PYTHON\n",
    "\n",
    "## Ejercicio 8\n",
    "\n",
    "Descargue la data \"SI Table 1\" (10080Table1.xls) de la página https://www.pnas.org/content/suppl/2006/12/27/0610080104.DC1. Esta data corresponde a algunas características de sueño de mamíferos. Seleccione los 10 primeros registros de la columna \"Total sleep time, hr\" y cree una lista de nombre lista1."
   ]
  },
  {
   "cell_type": "code",
   "execution_count": 5,
   "metadata": {},
   "outputs": [
    {
     "name": "stdout",
     "output_type": "stream",
     "text": [
      "se añadieron los diez primeros datos\n",
      "el comando sum(lista1)/len(lista1) devuelve: 13.079999999999998\n",
      "el comando round(sum(lista1)/len(lista1), 3) devuelve: 13.08\n",
      "tras el append el comando lista1[-1][2] devuelve: ikiam\n",
      "el comando lista1[8:] devuelve: [14.9, 9.1]\n",
      "tras el extend el comando len(lista1) devuelve: 13\n",
      "el comando lista1[5] devuelve: 10.1\n"
     ]
    }
   ],
   "source": [
    "# Lista:\n",
    "\n",
    "lista1 = [8.6, 18.0, 19.4, 13.7, 11.1, 10.1, 10.3, 15.6, 14.9, 9.1]\n",
    "\n",
    "#Creación de un verificador para conocer si se añadieron 10 datos: \n",
    "\n",
    "if len(lista1) == 10:\n",
    "    print(\"se añadieron los diez primeros datos\") \n",
    "else:\n",
    "    print(\"no se añadieron 10 datos revisar la lista\")\n",
    "\n",
    "# Código del exámen:\n",
    "\n",
    "print(\"el comando sum(lista1)/len(lista1) devuelve:\", sum(lista1)/len(lista1)) \n",
    "\n",
    "lista1 = [8.6, 18.0, 19.4, 13.7, 11.1, 10.1, 10.3, 15.6, 14.9, 9.1]  \n",
    "print(\"el comando round(sum(lista1)/len(lista1), 3) devuelve:\", round(sum(lista1)/len(lista1), 3))\n",
    "\n",
    "lista1.append([\"gbi6\", \"bio1\", \"ikiam\"]) \n",
    "print(\"tras el append el comando lista1[-1][2] devuelve:\", lista1[-1][2]) \n",
    "\n",
    "lista1 = [8.6, 18.0, 19.4, 13.7, 11.1, 10.1, 10.3, 15.6, 14.9, 9.1]\n",
    "print(\"el comando lista1[8:] devuelve:\", lista1[8:])\n",
    "\n",
    "lista1.extend([\"gbi6\", \"bio1\", \"ikiam\"]) \n",
    "print(\"tras el extend el comando len(lista1) devuelve:\", len(lista1))\n",
    "\n",
    "lista1 = [8.6, 18.0, 19.4, 13.7, 11.1, 10.1, 10.3, 15.6, 14.9, 9.1] \n",
    "print(\"el comando lista1[5] devuelve:\", lista1[5]) "
   ]
  },
  {
   "cell_type": "markdown",
   "metadata": {
    "tags": []
   },
   "source": [
    "## Ejercicio 9\n",
    "\n",
    "Crear un diccionario de nombre dic_genomas, donde se tenga la información de la tabla 1 que se encuentra en https://www.nature.com/scitable/topicpage/eukaryotic-genome-complexity-437/. \n",
    "Utilice como \"key\" los valores especie de la columna \"Species and Common Name\" y las otras dos columnas ingrese como \"values\". \n",
    "Luego de crear el diccionario, extraiga los valores de \"key\" a una lista de nombre \"especies\"\n",
    "Extraiga los valores de \"value\" a una lista de nombre \"genomas\""
   ]
  },
  {
   "cell_type": "code",
   "execution_count": 2,
   "metadata": {},
   "outputs": [
    {
     "name": "stdout",
     "output_type": "stream",
     "text": [
      "{'Saccharomyces cerevisiae (unicellular budding yeast)': (12000000, 6000), 'Trichomonas vaginalis': (160000000, 60000), 'Plasmodium falciparum (unicellular malaria parasite)': (23000000, 5000), 'Caenorhabditis elegans (nematode)': (95.5, 18000), 'Drosophila melanogaster (fruit fly)': (170, 14000), 'Arabidopsis thaliana (mustard; thale cress)': (125, 25000), 'Oryza sativa (rice)': (470, 51000), 'Gallus gallus (chicken)': (1, 20000, 230000), 'Canis familiaris (domestic dog)': (2.4, 19000), 'Mus musculus (laboratory mouse)': (2.5, 30000), 'Homo sapiens (human)': (2.9, 20000, 25000)}\n",
      "[dict_keys(['Saccharomyces cerevisiae (unicellular budding yeast)', 'Trichomonas vaginalis', 'Plasmodium falciparum (unicellular malaria parasite)', 'Caenorhabditis elegans (nematode)', 'Drosophila melanogaster (fruit fly)', 'Arabidopsis thaliana (mustard; thale cress)', 'Oryza sativa (rice)', 'Gallus gallus (chicken)', 'Canis familiaris (domestic dog)', 'Mus musculus (laboratory mouse)', 'Homo sapiens (human)'])]\n",
      "[dict_values([(12000000, 6000), (160000000, 60000), (23000000, 5000), (95.5, 18000), (170, 14000), (125, 25000), (470, 51000), (1, 20000, 230000), (2.4, 19000), (2.5, 30000), (2.9, 20000, 25000)])]\n"
     ]
    }
   ],
   "source": [
    "dic_genomas = {}\n",
    "dic_genomas[\"Saccharomyces cerevisiae (unicellular budding yeast)\"] = 12000000, 6000\n",
    "dic_genomas[\"Trichomonas vaginalis\"] = 160000000, 60000\n",
    "dic_genomas[\"Plasmodium falciparum (unicellular malaria parasite)\"] = 23000000, 5000\n",
    "dic_genomas[\"Caenorhabditis elegans (nematode)\"] = 95.5, 18000\n",
    "dic_genomas[\"Drosophila melanogaster (fruit fly)\"] = 170, 14000\n",
    "dic_genomas[\"Arabidopsis thaliana (mustard; thale cress)\"] = 125, 25000\n",
    "dic_genomas[\"Oryza sativa (rice)\"] = 470, 51000\n",
    "dic_genomas[\"Gallus gallus (chicken)\"] = 1, 20000, 230000\n",
    "dic_genomas[\"Canis familiaris (domestic dog)\"] = 2.4, 19000\n",
    "dic_genomas[\"Mus musculus (laboratory mouse)\"] = 2.5, 30000\n",
    "dic_genomas[\"Homo sapiens (human)\"] = 2.9, 20000, 25000\n",
    "\n",
    "print(dic_genomas)\n",
    "\n",
    "especies = [dic_genomas.keys()]\n",
    "print (especies)\n",
    "\n",
    "genomas = [dic_genomas.values()]\n",
    "print (genomas)"
   ]
  },
  {
   "cell_type": "markdown",
   "metadata": {},
   "source": [
    "## Ejercicio 10\n",
    "\n",
    "Crear un diccionario de nombre dic_aminoacidos, donde se tenga la información de la tabla que se encuentra en http://www.russelllab.org/aas/aas.html. \n",
    "Utilice como \"key\" los valores de la columna \"AA\" y las columnas \"Hits\" y \"%Abundance\" como \"values\". \n",
    "Luego de crear el diccionario, extraiga los valores de \"key\" a una lista de nombre \"aminoacidos\"\n",
    "Extraiga los valores de \"value\" a una lista de nombre \"propiedades\""
   ]
  },
  {
   "cell_type": "code",
   "execution_count": 4,
   "metadata": {},
   "outputs": [
    {
     "name": "stdout",
     "output_type": "stream",
     "text": [
      "Diccionario dic_aminoacidos: \n",
      "{'Trp': [1550, 1.34], 'Cys': [1905, 1.76], 'His': [1695, 2.26], 'Arg': [3093, 5.2], 'Met': [1102, 2.32], 'Tyr': [1525, 3.25], 'Gln': [1830, 3.96], 'Phe': [1616, 4.12], 'Asp': [1691, 5.12], 'Pro': [1598, 5.0], 'Ala': [2018, 7.34], 'Asn': [1103, 4.57], 'Lys': [1366, 5.81], 'Glu': [1471, 6.22], 'Gly': [1376, 6.89], 'Thr': [1147, 5.85], 'Val': [1225, 6.48], 'Ile': [1033, 5.76], 'Ser': [1206, 7.38], 'Leu': [1127, 9.36]}\n",
      "Lista aminoacidos:  ['Trp', 'Cys', 'His', 'Arg', 'Met', 'Tyr', 'Gln', 'Phe', 'Asp', 'Pro', 'Ala', 'Asn', 'Lys', 'Glu', 'Gly', 'Thr', 'Val', 'Ile', 'Ser', 'Leu']\n",
      "Lista de propiedades:  [[1550, 1.34], [1905, 1.76], [1695, 2.26], [3093, 5.2], [1102, 2.32], [1525, 3.25], [1830, 3.96], [1616, 4.12], [1691, 5.12], [1598, 5.0], [2018, 7.34], [1103, 4.57], [1366, 5.81], [1471, 6.22], [1376, 6.89], [1147, 5.85], [1225, 6.48], [1033, 5.76], [1206, 7.38], [1127, 9.36]]\n"
     ]
    }
   ],
   "source": [
    "dic_aminoacidos = {\n",
    "    \"Trp\": [1550, 1.34, ],\n",
    "    \"Cys\": [1905, 1.76, ],\n",
    "    \"His\": [1695, 2.26, ],\n",
    "    \"Arg\": [3093, 5.20, ],\n",
    "    \"Met\": [1102, 2.32, ],\n",
    "    \"Tyr\": [1525, 3.25, ],\n",
    "    \"Gln\": [1830, 3.96, ],\n",
    "    \"Phe\": [1616, 4.12, ],\n",
    "    \"Asp\": [1691, 5.12, ],\n",
    "    \"Pro\": [1598, 5.00, ],\n",
    "    \"Ala\": [2018, 7.34, ],\n",
    "    \"Asn\": [1103, 4.57, ],\n",
    "    \"Lys\": [1366, 5.81, ],\n",
    "    \"Glu\": [1471, 6.22, ],\n",
    "    \"Gly\": [1376, 6.89, ],\n",
    "    \"Thr\": [1147, 5.85, ],\n",
    "    \"Val\": [1225, 6.48, ],\n",
    "    \"Ile\": [1033, 5.76, ],\n",
    "    \"Ser\": [1206, 7.38, ],\n",
    "    \"Leu\": [1127, 9.36, ],   \n",
    "}\n",
    "\n",
    "print(\"Diccionario dic_aminoacidos: \")\n",
    "print(dic_aminoacidos) \n",
    "aminoacidos = list(dic_aminoacidos.keys()) \n",
    "print(\"Lista aminoacidos: \", aminoacidos) \n",
    "propiedades = list(dic_aminoacidos.values()) \n",
    "print(\"Lista de propiedades: \", propiedades)\n"
   ]
  },
  {
   "cell_type": "code",
   "execution_count": null,
   "metadata": {},
   "outputs": [],
   "source": []
  }
 ],
 "metadata": {
  "kernelspec": {
   "display_name": "Python 3 (ipykernel)",
   "language": "python",
   "name": "python3"
  },
  "language_info": {
   "codemirror_mode": {
    "name": "ipython",
    "version": 3
   },
   "file_extension": ".py",
   "mimetype": "text/x-python",
   "name": "python",
   "nbconvert_exporter": "python",
   "pygments_lexer": "ipython3",
   "version": "3.9.7"
  },
  "latex_envs": {
   "LaTeX_envs_menu_present": true,
   "autoclose": false,
   "autocomplete": true,
   "bibliofile": "biblio.bib",
   "cite_by": "apalike",
   "current_citInitial": 1,
   "eqLabelWithNumbers": true,
   "eqNumInitial": 1,
   "hotkeys": {
    "equation": "Ctrl-E",
    "itemize": "Ctrl-I"
   },
   "labels_anchors": false,
   "latex_user_defs": false,
   "report_style_numbering": false,
   "user_envs_cfg": false
  },
  "toc": {
   "base_numbering": 1,
   "nav_menu": {},
   "number_sections": true,
   "sideBar": false,
   "skip_h1_title": false,
   "title_cell": "Table of Contents",
   "title_sidebar": "Contents",
   "toc_cell": false,
   "toc_position": {
    "height": "1152.67px",
    "left": "41px",
    "top": "110px",
    "width": "253.458px"
   },
   "toc_section_display": true,
   "toc_window_display": false
  },
  "varInspector": {
   "cols": {
    "lenName": 16,
    "lenType": 16,
    "lenVar": 40
   },
   "kernels_config": {
    "python": {
     "delete_cmd_postfix": "",
     "delete_cmd_prefix": "del ",
     "library": "var_list.py",
     "varRefreshCmd": "print(var_dic_list())"
    },
    "r": {
     "delete_cmd_postfix": ") ",
     "delete_cmd_prefix": "rm(",
     "library": "var_list.r",
     "varRefreshCmd": "cat(var_dic_list()) "
    }
   },
   "types_to_exclude": [
    "module",
    "function",
    "builtin_function_or_method",
    "instance",
    "_Feature"
   ],
   "window_display": false
  }
 },
 "nbformat": 4,
 "nbformat_minor": 4
}
